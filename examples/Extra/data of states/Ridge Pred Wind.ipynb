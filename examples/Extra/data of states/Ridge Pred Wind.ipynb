{
 "cells": [
  {
   "cell_type": "code",
   "execution_count": 1,
   "metadata": {
    "collapsed": true
   },
   "outputs": [],
   "source": [
    "# import libraries\n",
    "import numpy as np\n",
    "import pandas as pd\n",
    "import matplotlib.pyplot as plt\n",
    "from sklearn import linear_model\n",
    "from sklearn.model_selection import train_test_split"
   ]
  },
  {
   "cell_type": "code",
   "execution_count": 2,
   "metadata": {
    "collapsed": false
   },
   "outputs": [
    {
     "name": "stdout",
     "output_type": "stream",
     "text": [
      "49\n",
      "     Year   AK            AL           AR            AZ            CA   CO  \\\n",
      "0  2015.0  0.0  30830.873678  8407.004655  50888.882997  41136.625744  0.0   \n",
      "1  2016.0  0.0  32887.151123  3229.993275  53946.927366  39976.353424  0.0   \n",
      "2  2017.0  0.0  32801.954859     0.000000  57990.737679  42686.196015  0.0   \n",
      "3  2018.0  0.0  33209.543963     0.000000  63131.161375  42140.851188  0.0   \n",
      "4  2019.0  0.0  34041.863130     0.000000  68807.979214  41843.585874  0.0   \n",
      "5  2020.0  0.0  35052.499760     0.000000  75628.523349  40892.412003  0.0   \n",
      "\n",
      "             CT   DE            FL ...    SD            TN            TX   UT  \\\n",
      "0  18187.830798  0.0  37243.076907 ...   0.0  26773.396288  48779.678361  0.0   \n",
      "1  17921.159713  0.0  36377.149434 ...   0.0  26805.842395  51899.688369  0.0   \n",
      "2  18251.827587  0.0  36109.336005 ...   0.0  30607.294748  51874.730203  0.0   \n",
      "3  18317.047879  0.0  36216.991144 ...   0.0  36987.259891  54109.687047  0.0   \n",
      "4  18135.563796  0.0  36244.134630 ...   0.0  44438.560891  55017.957223  0.0   \n",
      "5  18123.900788  0.0  36100.321829 ...   0.0  54854.850024  57350.503947  0.0   \n",
      "\n",
      "             VA           VT           WA            WI   WV   WY  \n",
      "0  34003.867820  5783.494011  6049.133851  10814.184938  0.0  0.0  \n",
      "1  34710.118126  5743.539844  5820.435072  12974.954030  0.0  0.0  \n",
      "2  34828.005737  5729.139149  5650.449189  14487.016278  0.0  0.0  \n",
      "3  35158.178283  5555.700549  5389.055667  18687.084535  0.0  0.0  \n",
      "4  36006.703409  5629.323064  5108.336106  23262.484540  0.0  0.0  \n",
      "5  36863.525493  5666.702156  4719.384521  28945.227691  0.0  0.0  \n",
      "\n",
      "[6 rows x 50 columns]\n"
     ]
    }
   ],
   "source": [
    "# read data\n",
    "data = pd.read_csv(\"CA.csv\")\n",
    "year1 = data[['Year']][:44]\n",
    "#print(year1.shape)\n",
    "year2 = data[['Year']][-11:]\n",
    "\n",
    "# predict Wind for future\n",
    "year3 = year2 = data[['Year']][-6:]\n",
    "year3 = year3.set_index([[0, 1, 2, 3, 4, 5]])\n",
    "\n",
    "statelist=[\"AK\",\"AL\",\"AR\",\"AZ\",\"CA\",\"CO\",\"CT\",\"DE\",\"FL\",\"GA\",\"IA\",\"ID\",\"IL\",\"IN\",\"KS\",\"KY\",\"LA\",\"MA\",\"MD\",\"ME\",\"MI\",\"MN\",\"MO\",\"MS\",\"MT\",\"NC\",\"ND\",\"NE\",\"NH\",\"NJ\",\"NM\",\"NV\",\"NY\",\"OH\",\"OK\",\"OR\",\"PA\",\"RI\",\"SC\",\"SD\",\"TN\",\"TX\",\"UT\",\"VA\",\"VT\",\"WA\",\"WI\",\"WV\",\"WY\"]\n",
    "print(len(statelist))\n",
    "\n",
    "future = year3\n",
    "# do ridge regression on train data\n",
    "\n",
    "for i in range(49):\n",
    "    data = pd.read_csv('%s.csv' % (statelist[i]))\n",
    "    \n",
    "    year1 = data[['Year']][:44]\n",
    "    #print(year1.shape)\n",
    "    year2 = data[['Year']][-11:]\n",
    "    # Split data for train and test\n",
    "    #print(i)\n",
    "    all_x = data[['GDP','CLPRB','EMFDB','ENPRP','NGMPB','PAPRB','PCP','ZNDX','Nominal Price', 'Inflation Adjusted Price']][0:55]\n",
    "    all_y = data[['WYTCP']][0:55]\n",
    "    train_x, test_x, train_y, test_y = train_test_split(all_x, all_y, test_size=0.2)\n",
    "    regr2 = linear_model.Ridge(alpha = 0.75)\n",
    "    regr2.fit(train_x, train_y)\n",
    "    # predict WYTCP for future\n",
    "    #year3 = data[['Year']][-6:]\n",
    "    #year3 = year3.set_index([[0, 1, 2, 3, 4, 5]])\n",
    "    #print(year3)\n",
    "    future_x = data[['GDP','CLPRB','EMFDB','ENPRP','NGMPB','PAPRB','PCP','ZNDX','Nominal Price', 'Inflation Adjusted Price']][-6:]\n",
    "    pred = pd.DataFrame(regr2.predict(future_x).clip(min=0))\n",
    "    pred.columns = [statelist[i]]\n",
    "    #print(pred)\n",
    "    future = pd.concat([future, pred], axis=1)\n",
    "    #print(future)\n",
    "print(future)\n",
    "\n",
    "# output to csv\n",
    "future.to_csv('WindPreds.csv', encoding='utf-8', index=False)"
   ]
  },
  {
   "cell_type": "code",
   "execution_count": null,
   "metadata": {
    "collapsed": true
   },
   "outputs": [],
   "source": []
  },
  {
   "cell_type": "code",
   "execution_count": null,
   "metadata": {
    "collapsed": true
   },
   "outputs": [],
   "source": []
  }
 ],
 "metadata": {
  "kernelspec": {
   "display_name": "Python [default]",
   "language": "python",
   "name": "python3"
  },
  "language_info": {
   "codemirror_mode": {
    "name": "ipython",
    "version": 3
   },
   "file_extension": ".py",
   "mimetype": "text/x-python",
   "name": "python",
   "nbconvert_exporter": "python",
   "pygments_lexer": "ipython3",
   "version": "3.5.2"
  }
 },
 "nbformat": 4,
 "nbformat_minor": 2
}
