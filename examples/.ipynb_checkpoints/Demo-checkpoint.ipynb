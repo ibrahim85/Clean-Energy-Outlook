{
 "cells": [
  {
   "cell_type": "markdown",
   "metadata": {},
   "source": [
    "# Examples for demonstration"
   ]
  },
  {
   "cell_type": "markdown",
   "metadata": {},
   "source": [
    "### Importing libraries"
   ]
  },
  {
   "cell_type": "code",
   "execution_count": 2,
   "metadata": {
    "collapsed": true
   },
   "outputs": [],
   "source": [
    "import os.path as op\n",
    "import pandas as pd\n",
    "import xlrd\n",
    "import ceo\n",
    "from ceo import datacleaning\n",
    "from ceo import predictor"
   ]
  },
  {
   "cell_type": "code",
   "execution_count": null,
   "metadata": {
    "collapsed": false
   },
   "outputs": [],
   "source": [
    "data_path = op.join(ceo.__path__[0], 'Data')\n",
    "data_path = op.join(data_path, 'Original Data')"
   ]
  },
  {
   "cell_type": "markdown",
   "metadata": {},
   "source": [
    "### datadownloading"
   ]
  },
  {
   "cell_type": "markdown",
   "metadata": {},
   "source": [
    "* The datadownloading module is used to download the data sets to be used in predicting the data\n",
    "* The wrapping function **`download_all_data`** takes the links to the data sets as input and downloads the data sets. It also renames the data sets.\n",
    "* The data sets are stored in the **`Original Data`** directory which is under the **`Data`** directory."
   ]
  },
  {
   "cell_type": "code",
   "execution_count": null,
   "metadata": {
    "collapsed": true
   },
   "outputs": [],
   "source": []
  },
  {
   "cell_type": "markdown",
   "metadata": {},
   "source": [
    "### Input Datasets"
   ]
  },
  {
   "cell_type": "code",
   "execution_count": null,
   "metadata": {
    "collapsed": false
   },
   "outputs": [],
   "source": [
    "df = pd.read_excel(op.join(data_path, 'State Energy Data System.xlsx'),sheetname=3)\n",
    "gdp=pd.read_csv(op.join(data_path, 'GDP.csv'),skiprows=4,index_col=1)\n",
    "climate_data = pd.read_csv(op.join(data_path, 'climate_annual.txt'),sep = ' ',encoding = 'utf-8')\n",
    "oil = pd.read_excel(op.join(data_path, 'Annual Average Crude Oil Price.xlsx'),skiprows=4)\n",
    "clprb = xlrd.open_workbook(op.join(data_path, 'CLPRB.xlsx'))\n",
    "emfdb=pd.read_excel(op.join(data_path, 'EMFDB.xlsx'))\n",
    "enprp=pd.read_excel(op.join(data_path, 'ENPRP.xlsx'))\n",
    "ngmpb=pd.read_excel(op.join(data_path, 'NGMPB.xlsx'))\n",
    "paprb=pd.read_excel(op.join(data_path, 'PAPRB.xlsx'))"
   ]
  },
  {
   "cell_type": "markdown",
   "metadata": {},
   "source": [
    "### datacleaning\n",
    "\n",
    "* The datacleaning module is used to clean and organize the data into 51 CSV files corresponding to the 50 states of the US and the District of Columbia. \n",
    "* The wrapping function **`clean_all_data`** takes all the data sets as input and sorts the data in to CSV files of the states.\n",
    "* The CSVs are stored in the **`Cleaned Data`** directory which is under the **`Data`** directory. "
   ]
  },
  {
   "cell_type": "code",
   "execution_count": null,
   "metadata": {
    "collapsed": false,
    "scrolled": true
   },
   "outputs": [],
   "source": [
    "datacleaning.clean_all_data(df,gdp,clprb,climate_data,oil,emfdb,enprp,ngmpb,paprb)"
   ]
  },
  {
   "cell_type": "markdown",
   "metadata": {},
   "source": [
    "### missing_data"
   ]
  },
  {
   "cell_type": "markdown",
   "metadata": {},
   "source": [
    "* The missing_data module is used to estimate the missing data of the GDP (from 1960 - 1962) and determine the values of the predictors (from 2016-2020).\n",
    "* The wrapping function **`predict_all`** takes the CSV files of the states as input and stores the predicted missing values in the same CSV files.\n",
    "* The CSVs generated replace the previous CSV files in the **`Cleaned Data`** directory which is under the **`Data`** directory."
   ]
  },
  {
   "cell_type": "code",
   "execution_count": null,
   "metadata": {
    "collapsed": false
   },
   "outputs": [],
   "source": [
    "predictor.predict_all()"
   ]
  },
  {
   "cell_type": "markdown",
   "metadata": {},
   "source": [
    "### ridge_regression"
   ]
  },
  {
   "cell_type": "code",
   "execution_count": 3,
   "metadata": {
    "collapsed": false
   },
   "outputs": [],
   "source": [
    "data=pd.read_csv('Data/Cleaned Data/CA.csv')"
   ]
  },
  {
   "cell_type": "markdown",
   "metadata": {},
   "source": [
    "### support_vector_regression"
   ]
  },
  {
   "cell_type": "markdown",
   "metadata": {},
   "source": [
    "### plots"
   ]
  }
 ],
 "metadata": {
  "anaconda-cloud": {},
  "kernelspec": {
   "display_name": "Python [conda root]",
   "language": "python",
   "name": "conda-root-py"
  },
  "language_info": {
   "codemirror_mode": {
    "name": "ipython",
    "version": 3
   },
   "file_extension": ".py",
   "mimetype": "text/x-python",
   "name": "python",
   "nbconvert_exporter": "python",
   "pygments_lexer": "ipython3",
   "version": "3.5.3"
  }
 },
 "nbformat": 4,
 "nbformat_minor": 2
}
