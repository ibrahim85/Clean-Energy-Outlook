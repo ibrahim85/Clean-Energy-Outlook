{
 "cells": [
  {
   "cell_type": "code",
   "execution_count": 1,
   "metadata": {
    "collapsed": true
   },
   "outputs": [],
   "source": [
    "# import libraries\n",
    "import numpy as np\n",
    "import pandas as pd\n",
    "import matplotlib.pyplot as plt\n",
    "from sklearn import linear_model\n",
    "from sklearn.model_selection import train_test_split"
   ]
  },
  {
   "cell_type": "code",
   "execution_count": 4,
   "metadata": {
    "collapsed": false
   },
   "outputs": [
    {
     "name": "stdout",
     "output_type": "stream",
     "text": [
      "49\n",
      "     Year   AK            AL            AR            AZ            CA  \\\n",
      "0  2015.0  0.0  34831.453705  14160.864555  39322.307390  40858.766353   \n",
      "1  2016.0  0.0  35784.453750  11380.466816  37985.608648  41395.626681   \n",
      "2  2017.0  0.0  35742.964753   8394.697963  36482.433684  43698.914202   \n",
      "3  2018.0  0.0  35861.020657   3335.294199  34777.293946  42919.823541   \n",
      "4  2019.0  0.0  36625.836409  -3330.498219  31374.744798  42431.623973   \n",
      "5  2020.0  0.0  37421.481506 -12810.402963  27216.998103  41358.400822   \n",
      "\n",
      "           CO            CT   DE            FL ...         SD            TN  \\\n",
      "0 -151.721934  18754.923826  0.0  39053.704861 ...  -1.131592  31654.591017   \n",
      "1  -54.911212  18579.031874  0.0  36892.668452 ...  -1.105482  33414.422696   \n",
      "2   39.099980  18516.414414  0.0  37021.552944 ...  -0.800472  35642.414927   \n",
      "3  170.528104  18395.621930  0.0  36989.284349 ...  -3.101036  38225.256908   \n",
      "4  357.124161  18484.408581  0.0  36494.810485 ...  -6.026527  42571.555305   \n",
      "5  580.261020  18594.446363  0.0  36334.001175 ...  -9.854870  48446.742017   \n",
      "\n",
      "             TX   UT            VA           VT           WA            WI  \\\n",
      "0  50383.163798  0.0  32210.942176  5556.074150  6330.974553   5912.299236   \n",
      "1  54544.175671  0.0  32711.387605  5467.478682  5744.148332   7673.814535   \n",
      "2  52561.185574  0.0  33028.749262  5417.319774  5651.509880   8284.668551   \n",
      "3  53998.323339  0.0  33297.439215  5328.622126  5046.603510  11871.234384   \n",
      "4  53965.572779  0.0  34096.647570  5336.891128  4816.001048  15715.042575   \n",
      "5  55735.033212  0.0  34894.138826  5360.697811  4206.015596  20536.693224   \n",
      "\n",
      "    WV   WY  \n",
      "0  0.0  0.0  \n",
      "1  0.0  0.0  \n",
      "2  0.0  0.0  \n",
      "3  0.0  0.0  \n",
      "4  0.0  0.0  \n",
      "5  0.0  0.0  \n",
      "\n",
      "[6 rows x 50 columns]\n"
     ]
    }
   ],
   "source": [
    "# read data\n",
    "data = pd.read_csv(\"CA.csv\")\n",
    "year1 = data[['Year']][:44]\n",
    "#print(year1.shape)\n",
    "year2 = data[['Year']][-11:]\n",
    "\n",
    "# predict Wind for future\n",
    "year3 = year2 = data[['Year']][-6:]\n",
    "year3 = year3.set_index([[0, 1, 2, 3, 4, 5]])\n",
    "\n",
    "statelist=[\"AK\",\"AL\",\"AR\",\"AZ\",\"CA\",\"CO\",\"CT\",\"DE\",\"FL\",\"GA\",\"IA\",\"ID\",\"IL\",\"IN\",\"KS\",\"KY\",\"LA\",\"MA\",\"MD\",\"ME\",\"MI\",\"MN\",\"MO\",\"MS\",\"MT\",\"NC\",\"ND\",\"NE\",\"NH\",\"NJ\",\"NM\",\"NV\",\"NY\",\"OH\",\"OK\",\"OR\",\"PA\",\"RI\",\"SC\",\"SD\",\"TN\",\"TX\",\"UT\",\"VA\",\"VT\",\"WA\",\"WI\",\"WV\",\"WY\"]\n",
    "print(len(statelist))\n",
    "\n",
    "future = year3\n",
    "# do ridge regression on train data\n",
    "\n",
    "for i in range(49):\n",
    "    data = pd.read_csv('%s.csv' % (statelist[i]))\n",
    "    \n",
    "    year1 = data[['Year']][:44]\n",
    "    #print(year1.shape)\n",
    "    year2 = data[['Year']][-11:]\n",
    "    # Split data for train and test\n",
    "    #print(i)\n",
    "    all_x = data[['GDP','CLPRB','EMFDB','ENPRP','NGMPB','PAPRB','PCP','ZNDX','Nominal Price', 'Inflation Adjusted Price']][0:55]\n",
    "    all_y = data[['WYTCP']][0:55]\n",
    "    train_x, test_x, train_y, test_y = train_test_split(all_x, all_y, test_size=0.2)\n",
    "    regr2 = linear_model.Ridge(alpha = 0.75)\n",
    "    regr2.fit(train_x, train_y)\n",
    "    # predict WYTCP for future\n",
    "    #year3 = data[['Year']][-6:]\n",
    "    #year3 = year3.set_index([[0, 1, 2, 3, 4, 5]])\n",
    "    #print(year3)\n",
    "    future_x = data[['GDP','CLPRB','EMFDB','ENPRP','NGMPB','PAPRB','PCP','ZNDX','Nominal Price', 'Inflation Adjusted Price']][-6:]\n",
    "    pred = pd.DataFrame(regr2.predict(future_x))\n",
    "    pred.columns = [statelist[i]]\n",
    "    #print(pred)\n",
    "    future = pd.concat([future, pred], axis=1)\n",
    "    #print(future)\n",
    "print(future)\n",
    "\n",
    "# output to csv\n",
    "future.to_csv('WindPreds.csv', encoding='utf-8', index=False)"
   ]
  },
  {
   "cell_type": "code",
   "execution_count": null,
   "metadata": {
    "collapsed": true
   },
   "outputs": [],
   "source": []
  }
 ],
 "metadata": {
  "kernelspec": {
   "display_name": "Python [default]",
   "language": "python",
   "name": "python3"
  },
  "language_info": {
   "codemirror_mode": {
    "name": "ipython",
    "version": 3
   },
   "file_extension": ".py",
   "mimetype": "text/x-python",
   "name": "python",
   "nbconvert_exporter": "python",
   "pygments_lexer": "ipython3",
   "version": "3.5.2"
  }
 },
 "nbformat": 4,
 "nbformat_minor": 2
}
