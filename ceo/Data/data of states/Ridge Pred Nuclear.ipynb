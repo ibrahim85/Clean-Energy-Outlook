{
 "cells": [
  {
   "cell_type": "code",
   "execution_count": null,
   "metadata": {
    "collapsed": true
   },
   "outputs": [],
   "source": [
    "# import libraries\n",
    "import numpy as np\n",
    "import pandas as pd\n",
    "import matplotlib.pyplot as plt\n",
    "from sklearn import linear_model\n",
    "from sklearn.model_selection import train_test_split"
   ]
  },
  {
   "cell_type": "code",
   "execution_count": 2,
   "metadata": {
    "collapsed": false
   },
   "outputs": [
    {
     "name": "stdout",
     "output_type": "stream",
     "text": [
      "49\n",
      "     Year         AK   AL   AR           AZ           CA            CO   CT  \\\n",
      "0  2015.0   5.729171  0.0  0.0   682.790417  6450.059642   8208.293940  0.0   \n",
      "1  2016.0   8.611049  0.0  0.0   912.628425  6446.786153   9945.488126  0.0   \n",
      "2  2017.0  16.498448  0.0  0.0  1189.313530  6997.619876  11941.814639  0.0   \n",
      "3  2018.0  21.857793  0.0  0.0  1524.974673  7661.127490  14281.639558  0.0   \n",
      "4  2019.0  26.010064  0.0  0.0  1926.953023  8103.638823  16960.077308  0.0   \n",
      "5  2020.0  29.694115  0.0  0.0  2415.176528  8594.727439  20083.285174  0.0   \n",
      "\n",
      "         DE   FL     ...                 SD         TN            TX  \\\n",
      "0  0.549469  0.0     ...        4144.961277  13.320705  31091.833384   \n",
      "1  0.806186  0.0     ...        4975.456342   9.683528  32330.862801   \n",
      "2  1.032359  0.0     ...        5941.454679   1.085976  32637.828821   \n",
      "3  1.194159  0.0     ...        7116.491189 -13.228412  33241.505755   \n",
      "4  1.324592  0.0     ...        8513.449254 -31.438056  33570.321729   \n",
      "5  1.449164  0.0     ...       10170.869044 -55.634640  34045.712714   \n",
      "\n",
      "           UT   VA         VT           WA           WI          WV  \\\n",
      "0  381.535754  0.0  29.277790  3327.570536  2543.316334  340.189428   \n",
      "1  386.391087  0.0  41.370484  3824.512914  2936.565647  380.068745   \n",
      "2  407.339517  0.0  33.807186  4507.091539  3378.911802  477.023420   \n",
      "3  427.485967  0.0  42.958582  5030.953796  3892.367278  547.327016   \n",
      "4  445.400631  0.0  45.111121  5535.182957  4486.634594  590.197791   \n",
      "5  466.504071  0.0  45.259598  6070.139511  5157.994785  631.512324   \n",
      "\n",
      "            WY  \n",
      "0  3907.792890  \n",
      "1  4302.537479  \n",
      "2  4717.317868  \n",
      "3  5066.544297  \n",
      "4  5387.548567  \n",
      "5  5678.383368  \n",
      "\n",
      "[6 rows x 50 columns]\n"
     ]
    }
   ],
   "source": [
    "# read data\n",
    "data = pd.read_csv(\"CA.csv\")\n",
    "year1 = data[['Year']][:44]\n",
    "#print(year1.shape)\n",
    "year2 = data[['Year']][-11:]\n",
    "\n",
    "# predict nuclear for future\n",
    "year3 = year2 = data[['Year']][-6:]\n",
    "year3 = year3.set_index([[0, 1, 2, 3, 4, 5]])\n",
    "\n",
    "statelist=[\"AK\",\"AL\",\"AR\",\"AZ\",\"CA\",\"CO\",\"CT\",\"DE\",\"FL\",\"GA\",\"IA\",\"ID\",\"IL\",\"IN\",\"KS\",\"KY\",\"LA\",\"MA\",\"MD\",\"ME\",\"MI\",\"MN\",\"MO\",\"MS\",\"MT\",\"NC\",\"ND\",\"NE\",\"NH\",\"NJ\",\"NM\",\"NV\",\"NY\",\"OH\",\"OK\",\"OR\",\"PA\",\"RI\",\"SC\",\"SD\",\"TN\",\"TX\",\"UT\",\"VA\",\"VT\",\"WA\",\"WI\",\"WV\",\"WY\"]\n",
    "print(len(statelist))\n",
    "\n",
    "future = year3\n",
    "# do ridge regression on train data\n",
    "\n",
    "for i in range(49):\n",
    "    data = pd.read_csv('%s.csv' % (statelist[i]))\n",
    "    \n",
    "    year1 = data[['Year']][:44]\n",
    "    #print(year1.shape)\n",
    "    year2 = data[['Year']][-11:]\n",
    "    # Split data for train and test\n",
    "    #print(i)\n",
    "    all_x = data[['GDP','CLPRB','EMFDB','ENPRP','NGMPB','PAPRB','PCP','ZNDX','Nominal Price', 'Inflation Adjusted Price']][0:55]\n",
    "    all_y = data[['NUETP']][0:55]\n",
    "    train_x, test_x, train_y, test_y = train_test_split(all_x, all_y, test_size=0.2)\n",
    "    regr2 = linear_model.Ridge(alpha = 0.75)\n",
    "    regr2.fit(train_x, train_y)\n",
    "    # predict NUETP for future\n",
    "    #year3 = data[['Year']][-6:]\n",
    "    #year3 = year3.set_index([[0, 1, 2, 3, 4, 5]])\n",
    "    #print(year3)\n",
    "    future_x = data[['GDP','CLPRB','EMFDB','ENPRP','NGMPB','PAPRB','PCP','ZNDX','Nominal Price', 'Inflation Adjusted Price']][-6:]\n",
    "    pred = pd.DataFrame(regr2.predict(future_x))\n",
    "    pred.columns = [statelist[i]]\n",
    "    #print(pred)\n",
    "    future = pd.concat([future, pred], axis=1)\n",
    "    #print(future)\n",
    "print(future)\n",
    "\n",
    "# output to csv\n",
    "future.to_csv('NuclearPreds.csv', encoding='utf-8', index=False)"
   ]
  },
  {
   "cell_type": "code",
   "execution_count": null,
   "metadata": {
    "collapsed": true
   },
   "outputs": [],
   "source": []
  }
 ],
 "metadata": {
  "kernelspec": {
   "display_name": "Python [default]",
   "language": "python",
   "name": "python3"
  },
  "language_info": {
   "codemirror_mode": {
    "name": "ipython",
    "version": 3
   },
   "file_extension": ".py",
   "mimetype": "text/x-python",
   "name": "python",
   "nbconvert_exporter": "python",
   "pygments_lexer": "ipython3",
   "version": "3.5.2"
  }
 },
 "nbformat": 4,
 "nbformat_minor": 2
}
