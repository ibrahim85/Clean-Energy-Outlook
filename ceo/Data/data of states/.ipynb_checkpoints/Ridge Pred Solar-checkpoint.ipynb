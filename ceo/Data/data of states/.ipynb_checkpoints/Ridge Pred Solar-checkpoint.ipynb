{
 "cells": [
  {
   "cell_type": "code",
   "execution_count": 1,
   "metadata": {
    "collapsed": true
   },
   "outputs": [],
   "source": [
    "# import libraries\n",
    "import numpy as np\n",
    "import pandas as pd\n",
    "import matplotlib.pyplot as plt\n",
    "from sklearn import linear_model\n",
    "from sklearn.model_selection import train_test_split"
   ]
  },
  {
   "cell_type": "code",
   "execution_count": 2,
   "metadata": {
    "collapsed": false
   },
   "outputs": [
    {
     "name": "stdout",
     "output_type": "stream",
     "text": [
      "49\n",
      "     Year   AK   AL   AR            AZ           CA           CO        CT  \\\n",
      "0  2015.0  0.0  0.0  0.0   3931.712427  1329.570911   327.586983  0.177262   \n",
      "1  2016.0  0.0  0.0  0.0   5397.210633  1404.752885   424.662343  0.471935   \n",
      "2  2017.0  0.0  0.0  0.0   7210.633513  1305.139609   540.233690  0.579335   \n",
      "3  2018.0  0.0  0.0  0.0   9452.221571  1778.132417   679.758123  0.587407   \n",
      "4  2019.0  0.0  0.0  0.0  12192.074248  2177.124532   847.198335  0.945495   \n",
      "5  2020.0  0.0  0.0  0.0  15556.356376  2635.171669  1044.231619  1.204404   \n",
      "\n",
      "         DE         FL ...    SD          TN          TX        UT   VA  \\\n",
      "0  1.385994   0.000000 ...   0.0   38.402701  169.015649  0.562682  0.0   \n",
      "1  4.791977  12.521007 ...   0.0   53.266835  166.496799  0.557768  0.0   \n",
      "2  6.661490  22.433161 ...   0.0   72.328805  158.932933  0.622683  0.0   \n",
      "3  6.319022  29.912991 ...   0.0   96.917034  163.132028  0.707842  0.0   \n",
      "4  8.092167  36.838367 ...   0.0  127.606017  154.912569  0.765259  0.0   \n",
      "5  9.417947  44.177388 ...   0.0  165.982623  156.864242  0.840815  0.0   \n",
      "\n",
      "         VT        WA        WI   WV   WY  \n",
      "0  0.467498  0.597658  1.017109  0.0  0.0  \n",
      "1  0.676860  0.678020  1.356138  0.0  0.0  \n",
      "2  0.267833  0.793141  1.787602  0.0  0.0  \n",
      "3  0.732461  0.893012  2.335792  0.0  0.0  \n",
      "4  0.604715  0.990719  3.033618  0.0  0.0  \n",
      "5  0.537138  1.111321  3.908971  0.0  0.0  \n",
      "\n",
      "[6 rows x 50 columns]\n"
     ]
    }
   ],
   "source": [
    "# read data\n",
    "data = pd.read_csv(\"CA.csv\")\n",
    "year1 = data[['Year']][:44]\n",
    "#print(year1.shape)\n",
    "year2 = data[['Year']][-11:]\n",
    "\n",
    "# predict solar for future\n",
    "year3 = year2 = data[['Year']][-6:]\n",
    "year3 = year3.set_index([[0, 1, 2, 3, 4, 5]])\n",
    "\n",
    "statelist=[\"AK\",\"AL\",\"AR\",\"AZ\",\"CA\",\"CO\",\"CT\",\"DE\",\"FL\",\"GA\",\"IA\",\"ID\",\"IL\",\"IN\",\"KS\",\"KY\",\"LA\",\"MA\",\"MD\",\"ME\",\"MI\",\"MN\",\"MO\",\"MS\",\"MT\",\"NC\",\"ND\",\"NE\",\"NH\",\"NJ\",\"NM\",\"NV\",\"NY\",\"OH\",\"OK\",\"OR\",\"PA\",\"RI\",\"SC\",\"SD\",\"TN\",\"TX\",\"UT\",\"VA\",\"VT\",\"WA\",\"WI\",\"WV\",\"WY\"]\n",
    "print(len(statelist))\n",
    "\n",
    "future = year3\n",
    "# do ridge regression on train data\n",
    "\n",
    "for i in range(49):\n",
    "    data = pd.read_csv('%s.csv' % (statelist[i]))\n",
    "    \n",
    "    year1 = data[['Year']][:44]\n",
    "    #print(year1.shape)\n",
    "    year2 = data[['Year']][-11:]\n",
    "    # Split data for train and test\n",
    "    #print(i)\n",
    "    all_x = data[['GDP','CLPRB','EMFDB','ENPRP','NGMPB','PAPRB','PCP','ZNDX','Nominal Price', 'Inflation Adjusted Price']][0:55]\n",
    "    all_y = data[['SOEGP']][0:55]\n",
    "    train_x, test_x, train_y, test_y = train_test_split(all_x, all_y, test_size=0.2)\n",
    "    regr2 = linear_model.Ridge(alpha = 0.75)\n",
    "    regr2.fit(train_x, train_y)\n",
    "    # predict SOEGP for future\n",
    "    #year3 = data[['Year']][-6:]\n",
    "    #year3 = year3.set_index([[0, 1, 2, 3, 4, 5]])\n",
    "    #print(year3)\n",
    "    future_x = data[['GDP','CLPRB','EMFDB','ENPRP','NGMPB','PAPRB','PCP','ZNDX','Nominal Price', 'Inflation Adjusted Price']][-6:]\n",
    "    pred = pd.DataFrame(regr2.predict(future_x).clip(min=0))\n",
    "    pred.columns = [statelist[i]]\n",
    "    #print(pred)\n",
    "    future = pd.concat([future, pred], axis=1)\n",
    "    #print(future)\n",
    "print(future)\n",
    "\n",
    "# output to csv\n",
    "future.to_csv('SolarPreds.csv', encoding='utf-8', index=False)"
   ]
  },
  {
   "cell_type": "code",
   "execution_count": null,
   "metadata": {
    "collapsed": true
   },
   "outputs": [],
   "source": []
  }
 ],
 "metadata": {
  "anaconda-cloud": {},
  "kernelspec": {
   "display_name": "Python [default]",
   "language": "python",
   "name": "python3"
  },
  "language_info": {
   "codemirror_mode": {
    "name": "ipython",
    "version": 3
   },
   "file_extension": ".py",
   "mimetype": "text/x-python",
   "name": "python",
   "nbconvert_exporter": "python",
   "pygments_lexer": "ipython3",
   "version": "3.5.2"
  }
 },
 "nbformat": 4,
 "nbformat_minor": 2
}
