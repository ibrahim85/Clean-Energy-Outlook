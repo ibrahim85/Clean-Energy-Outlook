{
 "cells": [
  {
   "cell_type": "markdown",
   "metadata": {},
   "source": [
    "* Each cell can add a column to our state data, you can only run it once, or you will get another the same columns"
   ]
  },
  {
   "cell_type": "code",
   "execution_count": 7,
   "metadata": {
    "collapsed": false
   },
   "outputs": [
    {
     "data": {
      "text/plain": [
       "'US'"
      ]
     },
     "execution_count": 7,
     "metadata": {},
     "output_type": "execute_result"
    }
   ],
   "source": [
    "import xlrd\n",
    "import pandas as pd\n",
    "import numpy as np\n",
    "statelist=[\"AK\",\"AL\",\"AR\",\"AZ\",\"CA\",\"CO\",\"CT\",\"DC\",\"DE\",\"FL\",\"GA\",\"HI\",\"IA\",\"ID\",\"IL\",\"IN\",\"KS\",\"KY\",\"LA\",\"MA\",\"MD\",\"ME\",\"MI\",\"MN\",\"MO\",\"MS\",\"MT\",\"NC\",\"ND\",\"NE\",\"NH\",\"NJ\",\"NM\",\"NV\",\"NY\",\"OH\",\"OK\",\"OR\",\"PA\",\"RI\",\"SC\",\"SD\",\"TN\",\"TX\",\"US\",\"UT\",\"VA\",\"VT\",\"WA\",\"WI\",\"WV\",\"WY\"]\n",
    "len(statelist)\n",
    "statelist[44]"
   ]
  },
  {
   "cell_type": "code",
   "execution_count": 12,
   "metadata": {
    "collapsed": false
   },
   "outputs": [
    {
     "name": "stderr",
     "output_type": "stream",
     "text": [
      "C:\\Users\\RicardoZhang\\Miniconda3\\lib\\site-packages\\ipykernel\\__main__.py:14: SettingWithCopyWarning: \n",
      "A value is trying to be set on a copy of a slice from a DataFrame\n",
      "\n",
      "See the caveats in the documentation: http://pandas.pydata.org/pandas-docs/stable/indexing.html#indexing-view-versus-copy\n"
     ]
    }
   ],
   "source": [
    "#add CLPRB columns\n",
    "CLPRB=pd.read_excel(\"..\\CLPRB.xlsx\")\n",
    "for j in range(52):\n",
    "    dftemp = pd.read_csv('%s.csv' % (statelist[j]))\n",
    "    dftemp.rename(columns={'Unnamed: 0':'Year','Unnamed: 5':'GDP'}, inplace = True)\n",
    "    dftemp['CLPRB']=0 \n",
    "    if j==44:  #for state US, missing data of GDP\n",
    "        continue\n",
    "    else: dftemp.drop(dftemp.index[55],inplace=True) #delete last line of GDP\n",
    "    data = xlrd.open_workbook('..\\CLPRB.xlsx') # open xlsx file \n",
    "    table = data.sheets()[j] # open sheet j\n",
    "    nrows = table.nrows # get how many lines\n",
    "    for i in range(1,nrows): #cycle in the table\n",
    "        dftemp['CLPRB'][i-1] = table.row_values(i)[3] # columns 4 \n",
    "    dftemp.to_csv('%s.csv'% (statelist[j]), encoding='utf-8', index=False)"
   ]
  },
  {
   "cell_type": "code",
   "execution_count": 13,
   "metadata": {
    "collapsed": false
   },
   "outputs": [
    {
     "name": "stderr",
     "output_type": "stream",
     "text": [
      "C:\\Users\\RicardoZhang\\Miniconda3\\lib\\site-packages\\ipykernel\\__main__.py:11: SettingWithCopyWarning: \n",
      "A value is trying to be set on a copy of a slice from a DataFrame\n",
      "\n",
      "See the caveats in the documentation: http://pandas.pydata.org/pandas-docs/stable/indexing.html#indexing-view-versus-copy\n"
     ]
    }
   ],
   "source": [
    "#add CLPRB columns to US state\n",
    "j=44\n",
    "CLPRB=pd.read_excel(\"..\\CLPRB.xlsx\")\n",
    "dftemp = pd.read_csv('%s.csv' % (statelist[j]))\n",
    "dftemp.rename(columns={'Unnamed: 0':'Year','Unnamed: 5':'GDP'}, inplace = True)\n",
    "dftemp['CLPRB']=0 \n",
    "data = xlrd.open_workbook('..\\CLPRB.xlsx') # open xlsx file \n",
    "table = data.sheets()[j] # open sheet j\n",
    "nrows = table.nrows # get how many lines\n",
    "for i in range(1,nrows): #cycle in the table\n",
    "    dftemp['CLPRB'][i-1] = table.row_values(i)[3] # columns 4 \n",
    "dftemp.to_csv('%s.csv'% (statelist[j]), encoding='utf-8', index=False)"
   ]
  },
  {
   "cell_type": "code",
   "execution_count": 15,
   "metadata": {
    "collapsed": false
   },
   "outputs": [],
   "source": [
    "#add EMFDB columns\n",
    "EMFDB=pd.read_excel(\"..\\EMFDB.xlsx\")\n",
    "for i in range(52):\n",
    "    tempdf=EMFDB[EMFDB.StateCode=='%s'% (statelist[i])]\n",
    "    del tempdf['MSN']\n",
    "    del tempdf['StateCode']\n",
    "    df = pd.read_csv('%s.csv' % (statelist[i]))\n",
    "    df_r=pd.merge(df, tempdf,on='Year',how='outer')\n",
    "    df_r.rename(columns={'Data':'EMFDB'}, inplace = True)\n",
    "    df_r.to_csv('%s.csv'% (statelist[i]), encoding='utf-8', index=False)"
   ]
  },
  {
   "cell_type": "code",
   "execution_count": 16,
   "metadata": {
    "collapsed": true
   },
   "outputs": [],
   "source": [
    "#add ENPRP columns\n",
    "ENPRP=pd.read_excel(\"..\\ENPRP.xlsx\")\n",
    "for i in range(52):\n",
    "    tempdf=ENPRP[ENPRP.StateCode=='%s'% (statelist[i])]\n",
    "    del tempdf['MSN']\n",
    "    del tempdf['StateCode']\n",
    "    df = pd.read_csv('%s.csv' % (statelist[i]))\n",
    "    df_r=pd.merge(df, tempdf,on='Year',how='outer')\n",
    "    df_r.rename(columns={'Data':'ENPRP'}, inplace = True)\n",
    "    df_r.to_csv('%s.csv'% (statelist[i]), encoding='utf-8', index=False)"
   ]
  },
  {
   "cell_type": "code",
   "execution_count": 17,
   "metadata": {
    "collapsed": false
   },
   "outputs": [],
   "source": [
    "#add NGMPB columns\n",
    "NGMPB=pd.read_excel(open(\"..\\\\NGMPB.xlsx\",'rb'))\n",
    "for i in range(52):\n",
    "    tempdf=NGMPB[NGMPB.StateCode=='%s'% (statelist[i])]\n",
    "    del tempdf['MSN']\n",
    "    del tempdf['StateCode']\n",
    "    df = pd.read_csv('%s.csv' % (statelist[i]))\n",
    "    df_r=pd.merge(df, tempdf,on='Year',how='outer')\n",
    "    df_r.rename(columns={'Data':'NGMPB'}, inplace = True)\n",
    "    df_r.to_csv('%s.csv'% (statelist[i]), encoding='utf-8', index=False)"
   ]
  },
  {
   "cell_type": "code",
   "execution_count": 18,
   "metadata": {
    "collapsed": true
   },
   "outputs": [],
   "source": [
    "#add PAPRB columns\n",
    "PAPRB=pd.read_excel(\"..\\PAPRB.xlsx\")\n",
    "for i in range(52):\n",
    "    tempdf=PAPRB[PAPRB.StateCode=='%s'% (statelist[i])]\n",
    "    del tempdf['MSN']\n",
    "    del tempdf['StateCode']\n",
    "    df = pd.read_csv('%s.csv' % (statelist[i]))\n",
    "    df_r=pd.merge(df, tempdf,on='Year',how='outer')\n",
    "    df_r.rename(columns={'Data':'PAPRB'}, inplace = True)\n",
    "    df_r.to_csv('%s.csv'% (statelist[i]), encoding='utf-8', index=False)"
   ]
  },
  {
   "cell_type": "code",
   "execution_count": null,
   "metadata": {
    "collapsed": true
   },
   "outputs": [],
   "source": []
  }
 ],
 "metadata": {
  "anaconda-cloud": {},
  "kernelspec": {
   "display_name": "Python [default]",
   "language": "python",
   "name": "python3"
  },
  "language_info": {
   "codemirror_mode": {
    "name": "ipython",
    "version": 3
   },
   "file_extension": ".py",
   "mimetype": "text/x-python",
   "name": "python",
   "nbconvert_exporter": "python",
   "pygments_lexer": "ipython3",
   "version": "3.5.2"
  }
 },
 "nbformat": 4,
 "nbformat_minor": 2
}
