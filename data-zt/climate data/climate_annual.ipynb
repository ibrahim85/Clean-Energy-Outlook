{
 "cells": [
  {
   "cell_type": "code",
   "execution_count": 2,
   "metadata": {
    "collapsed": false
   },
   "outputs": [
    {
     "name": "stdout",
     "output_type": "stream",
     "text": [
      "processing...\n",
      "done.\n"
     ]
    }
   ],
   "source": [
    "from pathlib import Path\n",
    "import csv\n",
    "\n",
    "import pandas as pd\n",
    "\n",
    "curr_dir = Path('climate data')\n",
    "data_states = list(curr_dir.glob('**/*.txt'));\n",
    "\n",
    "print('processing...')\n",
    "\n",
    "with open('annual.txt', 'w', newline='') as f:\n",
    "    result = csv.writer(f, delimiter=' ')\n",
    "    \n",
    "    # Create first row, i.e., State StateCode Year [Features]\n",
    "    first = pd.read_csv(data_states[0], delim_whitespace=True)\n",
    "    result.writerow(['State', 'StateCode', 'Year'] + list(first.columns[3:]))\n",
    "    \n",
    "    for state in data_states:\n",
    "        state_data = pd.read_csv(state, delim_whitespace=True)\n",
    "    \n",
    "        sum = state_data.iloc[0, 3:]\n",
    "        row_sz = state_data.shape[0]\n",
    "        for idx in range(1, row_sz):\n",
    "            row = state_data.iloc[idx]\n",
    "            if (idx % 12 == 0):\n",
    "                year = int(state_data.iloc[idx-1]['YearMonth'] // 100)\n",
    "                result.writerow([state.stem, int(row['StateCode']), year] + list(sum))\n",
    "                sum = row[3:]\n",
    "            else:\n",
    "                sum += row[3:]\n",
    "\n",
    "print('done.')"
   ]
  },
  {
   "cell_type": "code",
   "execution_count": null,
   "metadata": {
    "collapsed": true
   },
   "outputs": [],
   "source": []
  }
 ],
 "metadata": {
  "anaconda-cloud": {},
  "kernelspec": {
   "display_name": "Python [conda root]",
   "language": "python",
   "name": "conda-root-py"
  },
  "language_info": {
   "codemirror_mode": {
    "name": "ipython",
    "version": 3
   },
   "file_extension": ".py",
   "mimetype": "text/x-python",
   "name": "python",
   "nbconvert_exporter": "python",
   "pygments_lexer": "ipython3",
   "version": "3.5.2"
  }
 },
 "nbformat": 4,
 "nbformat_minor": 1
}
