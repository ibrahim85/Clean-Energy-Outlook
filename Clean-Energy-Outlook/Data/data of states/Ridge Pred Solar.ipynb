{
 "cells": [
  {
   "cell_type": "code",
   "execution_count": 2,
   "metadata": {
    "collapsed": true
   },
   "outputs": [],
   "source": [
    "# import libraries\n",
    "import numpy as np\n",
    "import pandas as pd\n",
    "import matplotlib.pyplot as plt\n",
    "from sklearn import linear_model\n",
    "from sklearn.model_selection import train_test_split"
   ]
  },
  {
   "cell_type": "code",
   "execution_count": 3,
   "metadata": {
    "collapsed": false
   },
   "outputs": [
    {
     "name": "stdout",
     "output_type": "stream",
     "text": [
      "49\n",
      "     Year   AK   AL   AR           AZ           CA           CO        CT  \\\n",
      "0  2015.0  0.0  0.0  0.0  2539.337193   851.029380   327.430443  0.680091   \n",
      "1  2016.0  0.0  0.0  0.0  3420.784302   721.566862   421.693164  0.937051   \n",
      "2  2017.0  0.0  0.0  0.0  4518.017737   918.051740   534.711674  0.687131   \n",
      "3  2018.0  0.0  0.0  0.0  5879.653768  1069.545932   670.547356  0.780925   \n",
      "4  2019.0  0.0  0.0  0.0  7549.761063  1157.373777   833.442634  0.984952   \n",
      "5  2020.0  0.0  0.0  0.0  9600.372983  1246.820074  1024.890061  1.087213   \n",
      "\n",
      "         DE         FL ...    SD          TN          TX        UT   VA  \\\n",
      "0  2.034402  -7.089839 ...   0.0   38.560476  243.367947  1.071056  0.0   \n",
      "1  5.280567  13.620950 ...   0.0   53.679160  247.761578  0.928738  0.0   \n",
      "2  7.055374  25.482535 ...   0.0   72.774517  232.587616  0.916455  0.0   \n",
      "3  6.690873  34.108886 ...   0.0   97.310388  234.583201  0.957257  0.0   \n",
      "4  8.389136  41.358507 ...   0.0  128.026790  222.068758  0.985618  0.0   \n",
      "5  9.658196  49.511858 ...   0.0  166.389679  221.587606  1.055364  0.0   \n",
      "\n",
      "         VT        WA        WI   WV   WY  \n",
      "0  1.503083  0.545884  0.993895  0.0  0.0  \n",
      "1  2.606157  0.666642  1.318886  0.0  0.0  \n",
      "2  3.377345  0.734145  1.749402  0.0  0.0  \n",
      "3  3.276476  0.863125  2.271099  0.0  0.0  \n",
      "4  4.108787  0.932140  2.954470  0.0  0.0  \n",
      "5  4.514239  1.063262  3.817948  0.0  0.0  \n",
      "\n",
      "[6 rows x 50 columns]\n"
     ]
    }
   ],
   "source": [
    "# read data\n",
    "data = pd.read_csv(\"CA.csv\")\n",
    "year1 = data[['Year']][:44]\n",
    "#print(year1.shape)\n",
    "year2 = data[['Year']][-11:]\n",
    "\n",
    "# predict solar for future\n",
    "year3 = year2 = data[['Year']][-6:]\n",
    "year3 = year3.set_index([[0, 1, 2, 3, 4, 5]])\n",
    "\n",
    "statelist=[\"AK\",\"AL\",\"AR\",\"AZ\",\"CA\",\"CO\",\"CT\",\"DE\",\"FL\",\"GA\",\"IA\",\"ID\",\"IL\",\"IN\",\"KS\",\"KY\",\"LA\",\"MA\",\"MD\",\"ME\",\"MI\",\"MN\",\"MO\",\"MS\",\"MT\",\"NC\",\"ND\",\"NE\",\"NH\",\"NJ\",\"NM\",\"NV\",\"NY\",\"OH\",\"OK\",\"OR\",\"PA\",\"RI\",\"SC\",\"SD\",\"TN\",\"TX\",\"UT\",\"VA\",\"VT\",\"WA\",\"WI\",\"WV\",\"WY\"]\n",
    "print(len(statelist))\n",
    "\n",
    "future = year3\n",
    "# do ridge regression on train data\n",
    "\n",
    "for i in range(49):\n",
    "    data = pd.read_csv('%s.csv' % (statelist[i]))\n",
    "    \n",
    "    year1 = data[['Year']][:44]\n",
    "    #print(year1.shape)\n",
    "    year2 = data[['Year']][-11:]\n",
    "    # Split data for train and test\n",
    "    #print(i)\n",
    "    all_x = data[['GDP','CLPRB','EMFDB','ENPRP','NGMPB','PAPRB','PCP','ZNDX','Nominal Price', 'Inflation Adjusted Price']][0:55]\n",
    "    all_y = data[['SOEGP']][0:55]\n",
    "    train_x, test_x, train_y, test_y = train_test_split(all_x, all_y, test_size=0.2)\n",
    "    regr2 = linear_model.Ridge(alpha = 0.75)\n",
    "    regr2.fit(train_x, train_y)\n",
    "    # predict SOEGP for future\n",
    "    #year3 = data[['Year']][-6:]\n",
    "    #year3 = year3.set_index([[0, 1, 2, 3, 4, 5]])\n",
    "    #print(year3)\n",
    "    future_x = data[['GDP','CLPRB','EMFDB','ENPRP','NGMPB','PAPRB','PCP','ZNDX','Nominal Price', 'Inflation Adjusted Price']][-6:]\n",
    "    pred = pd.DataFrame(regr2.predict(future_x))\n",
    "    pred.columns = [statelist[i]]\n",
    "    #print(pred)\n",
    "    future = pd.concat([future, pred], axis=1)\n",
    "    #print(future)\n",
    "print(future)\n",
    "\n",
    "# output to csv\n",
    "future.to_csv('SolarPreds.csv', encoding='utf-8', index=False)"
   ]
  },
  {
   "cell_type": "code",
   "execution_count": null,
   "metadata": {
    "collapsed": true
   },
   "outputs": [],
   "source": []
  }
 ],
 "metadata": {
  "anaconda-cloud": {},
  "kernelspec": {
   "display_name": "Python [default]",
   "language": "python",
   "name": "python3"
  },
  "language_info": {
   "codemirror_mode": {
    "name": "ipython",
    "version": 3
   },
   "file_extension": ".py",
   "mimetype": "text/x-python",
   "name": "python",
   "nbconvert_exporter": "python",
   "pygments_lexer": "ipython3",
   "version": "3.5.2"
  }
 },
 "nbformat": 4,
 "nbformat_minor": 2
}
