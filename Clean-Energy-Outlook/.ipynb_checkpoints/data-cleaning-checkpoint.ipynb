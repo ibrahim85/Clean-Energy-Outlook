{
 "cells": [
  {
   "cell_type": "code",
   "execution_count": 53,
   "metadata": {
    "collapsed": false
   },
   "outputs": [],
   "source": [
    "import pandas as pd\n",
    "import numpy as np\n",
    "import xlrd\n",
    "df = pd.read_excel(\"Data/Original Data/State Energy Data System.xlsx\",sheetname=3)"
   ]
  },
  {
   "cell_type": "code",
   "execution_count": 54,
   "metadata": {
    "collapsed": false
   },
   "outputs": [],
   "source": [
    "statelist=[\"AK\",\"AL\",\"AR\",\"AZ\",\"CA\",\"CO\",\"CT\",\"DC\",\"DE\",\"FL\",\"GA\",\"HI\",\"IA\",\"ID\",\"IL\",\"IN\",\"KS\",\"KY\",\"LA\",\"MA\",\"MD\",\"ME\",\"MI\",\"MN\",\"MO\",\"MS\",\"MT\",\"NC\",\"ND\",\"NE\",\"NH\",\"NJ\",\"NM\",\"NV\",\"NY\",\"OH\",\"OK\",\"OR\",\"PA\",\"RI\",\"SC\",\"SD\",\"TN\",\"TX\",\"US\",\"UT\",\"VA\",\"VT\",\"WA\",\"WI\",\"WV\",\"WY\"]"
   ]
  },
  {
   "cell_type": "code",
   "execution_count": 22,
   "metadata": {
    "collapsed": true
   },
   "outputs": [],
   "source": [
    "def data_extract(df,state,param_list):\n",
    "    datalist=[]\n",
    "    dftemp=df[df['MSN'].isin([\"Year\"] + param_list) & (df.State==state)]\n",
    "    del dftemp['Data_Status']\n",
    "    del dftemp['State']\n",
    "    del dftemp['MSN']\n",
    "    dftemp=dftemp.T\n",
    "    dftemp.columns=param_list\n",
    "    datalist.append(dftemp)\n",
    "    #datalist.to_csv('Data/Data_States/%s.csv'% (statelist[i]), encoding='utf-8', index=True)\n",
    "    return datalist"
   ]
  },
  {
   "cell_type": "code",
   "execution_count": 23,
   "metadata": {
    "collapsed": false
   },
   "outputs": [],
   "source": [
    "def data_extract_all(df,state_list,param_list):\n",
    "    for i in state_list:\n",
    "        data=data_extract(df,'CA',param_list)\n",
    "        data[0].to_csv('Data/Data_States/%s.csv'%i, encoding='utf-8', index=True)\n",
    "    return"
   ]
  },
  {
   "cell_type": "code",
   "execution_count": 55,
   "metadata": {
    "collapsed": false
   },
   "outputs": [],
   "source": [
    "data_extract_all(df,statelist,[\"HYTCP\",\"WYTCP\",\"SOEGP\",\"NUETP\"])"
   ]
  },
  {
   "cell_type": "code",
   "execution_count": 50,
   "metadata": {
    "collapsed": false
   },
   "outputs": [],
   "source": [
    "def add_clprb(state_list):\n",
    "    for j in range(52):\n",
    "        dftemp = pd.read_csv('Data/Data_States/%s.csv' % (statelist[j]))\n",
    "        dftemp.rename(columns={'Unnamed: 0':'Year','Unnamed: 5':'GDP'}, inplace = True)\n",
    "        dftemp['CLPRB']=0 \n",
    "        if j==44:  #for state US, missing data of GDP\n",
    "            continue\n",
    "        #else: dftemp.drop(dftemp.index[55],inplace=True) #delete last line of GDP\n",
    "        data = xlrd.open_workbook('Data/Original Data/more MSN/CLPRB.xlsx') # open xlsx file \n",
    "        table = data.sheets()[j] # open sheet j\n",
    "        nrows = table.nrows # get how many lines\n",
    "        for i in range(1,nrows): #cycle in the table\n",
    "            dftemp['CLPRB'][i-1] = table.row_values(i)[3] # columns 4 \n",
    "        dftemp.to_csv('Data/Data_States/%s.csv'% (statelist[j]), encoding='utf-8', index=False)\n",
    "    return"
   ]
  },
  {
   "cell_type": "code",
   "execution_count": 56,
   "metadata": {
    "collapsed": false
   },
   "outputs": [
    {
     "name": "stderr",
     "output_type": "stream",
     "text": [
      "C:\\Users\\rahul\\Miniconda3\\lib\\site-packages\\ipykernel\\__main__.py:13: SettingWithCopyWarning: \n",
      "A value is trying to be set on a copy of a slice from a DataFrame\n",
      "\n",
      "See the caveats in the documentation: http://pandas.pydata.org/pandas-docs/stable/indexing.html#indexing-view-versus-copy\n"
     ]
    }
   ],
   "source": [
    "add_clprb(statelist)"
   ]
  },
  {
   "cell_type": "code",
   "execution_count": 29,
   "metadata": {
    "collapsed": true
   },
   "outputs": [],
   "source": [
    "def add_msn(state_list,parameter):\n",
    "    data=pd.read_excel(\"Data/Original Data/more MSN/%s.xlsx\" %parameter)\n",
    "    for i in state_list:\n",
    "        tempdf=data[data.StateCode=='%s'%i]\n",
    "        del tempdf['MSN']\n",
    "        del tempdf['StateCode']\n",
    "        df = pd.read_csv('Data/Data_States/%s.csv' %i)\n",
    "        df.rename(columns={'Unnamed: 0':'Year','Unnamed: 5':'GDP'}, inplace = True)\n",
    "        df_r=pd.merge(df, tempdf,on='Year',how='outer')\n",
    "        df_r.rename(columns={'Data':parameter}, inplace = True)\n",
    "        df_r.to_csv('Data/Data_States/%s.csv' %i, encoding='utf-8', index=False)"
   ]
  },
  {
   "cell_type": "code",
   "execution_count": 30,
   "metadata": {
    "collapsed": false
   },
   "outputs": [],
   "source": [
    "add_msn(statelist,'EMFDB')"
   ]
  },
  {
   "cell_type": "code",
   "execution_count": null,
   "metadata": {
    "collapsed": true
   },
   "outputs": [],
   "source": []
  }
 ],
 "metadata": {
  "anaconda-cloud": {},
  "kernelspec": {
   "display_name": "Python [conda root]",
   "language": "python",
   "name": "conda-root-py"
  },
  "language_info": {
   "codemirror_mode": {
    "name": "ipython",
    "version": 3
   },
   "file_extension": ".py",
   "mimetype": "text/x-python",
   "name": "python",
   "nbconvert_exporter": "python",
   "pygments_lexer": "ipython3",
   "version": "3.5.2"
  }
 },
 "nbformat": 4,
 "nbformat_minor": 2
}
