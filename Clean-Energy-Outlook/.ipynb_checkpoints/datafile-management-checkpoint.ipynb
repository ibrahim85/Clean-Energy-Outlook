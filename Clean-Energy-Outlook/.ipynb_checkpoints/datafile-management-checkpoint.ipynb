{
 "cells": [
  {
   "cell_type": "code",
   "execution_count": 1,
   "metadata": {
    "collapsed": false
   },
   "outputs": [
    {
     "data": {
      "text/html": [
       "<div>\n",
       "<table border=\"1\" class=\"dataframe\">\n",
       "  <thead>\n",
       "    <tr style=\"text-align: right;\">\n",
       "      <th></th>\n",
       "      <th>Data_Status</th>\n",
       "      <th>State</th>\n",
       "      <th>MSN</th>\n",
       "      <th>1960</th>\n",
       "      <th>1961</th>\n",
       "      <th>1962</th>\n",
       "      <th>1963</th>\n",
       "      <th>1964</th>\n",
       "      <th>1965</th>\n",
       "      <th>1966</th>\n",
       "      <th>...</th>\n",
       "      <th>2005</th>\n",
       "      <th>2006</th>\n",
       "      <th>2007</th>\n",
       "      <th>2008</th>\n",
       "      <th>2009</th>\n",
       "      <th>2010</th>\n",
       "      <th>2011</th>\n",
       "      <th>2012</th>\n",
       "      <th>2013</th>\n",
       "      <th>2014</th>\n",
       "    </tr>\n",
       "  </thead>\n",
       "  <tbody>\n",
       "    <tr>\n",
       "      <th>0</th>\n",
       "      <td>2014F</td>\n",
       "      <td>AK</td>\n",
       "      <td>ABICP</td>\n",
       "      <td>0.0</td>\n",
       "      <td>0.0</td>\n",
       "      <td>0.0</td>\n",
       "      <td>0.0</td>\n",
       "      <td>0.0</td>\n",
       "      <td>0.0</td>\n",
       "      <td>0.0</td>\n",
       "      <td>...</td>\n",
       "      <td>38</td>\n",
       "      <td>3</td>\n",
       "      <td>8</td>\n",
       "      <td>0</td>\n",
       "      <td>-3</td>\n",
       "      <td>-1</td>\n",
       "      <td>0</td>\n",
       "      <td>0</td>\n",
       "      <td>-1</td>\n",
       "      <td>0</td>\n",
       "    </tr>\n",
       "    <tr>\n",
       "      <th>1</th>\n",
       "      <td>2014F</td>\n",
       "      <td>AK</td>\n",
       "      <td>ARICP</td>\n",
       "      <td>47.0</td>\n",
       "      <td>84.0</td>\n",
       "      <td>74.0</td>\n",
       "      <td>89.0</td>\n",
       "      <td>119.0</td>\n",
       "      <td>132.0</td>\n",
       "      <td>248.0</td>\n",
       "      <td>...</td>\n",
       "      <td>186</td>\n",
       "      <td>50</td>\n",
       "      <td>139</td>\n",
       "      <td>82</td>\n",
       "      <td>1537</td>\n",
       "      <td>1905</td>\n",
       "      <td>2250</td>\n",
       "      <td>2161</td>\n",
       "      <td>1923</td>\n",
       "      <td>1859</td>\n",
       "    </tr>\n",
       "    <tr>\n",
       "      <th>2</th>\n",
       "      <td>2014F</td>\n",
       "      <td>AK</td>\n",
       "      <td>ARTCP</td>\n",
       "      <td>47.0</td>\n",
       "      <td>84.0</td>\n",
       "      <td>74.0</td>\n",
       "      <td>89.0</td>\n",
       "      <td>119.0</td>\n",
       "      <td>132.0</td>\n",
       "      <td>248.0</td>\n",
       "      <td>...</td>\n",
       "      <td>186</td>\n",
       "      <td>50</td>\n",
       "      <td>139</td>\n",
       "      <td>82</td>\n",
       "      <td>1537</td>\n",
       "      <td>1905</td>\n",
       "      <td>2250</td>\n",
       "      <td>2161</td>\n",
       "      <td>1923</td>\n",
       "      <td>1859</td>\n",
       "    </tr>\n",
       "    <tr>\n",
       "      <th>3</th>\n",
       "      <td>2014F</td>\n",
       "      <td>AK</td>\n",
       "      <td>ARTXP</td>\n",
       "      <td>47.0</td>\n",
       "      <td>84.0</td>\n",
       "      <td>74.0</td>\n",
       "      <td>89.0</td>\n",
       "      <td>119.0</td>\n",
       "      <td>132.0</td>\n",
       "      <td>248.0</td>\n",
       "      <td>...</td>\n",
       "      <td>186</td>\n",
       "      <td>50</td>\n",
       "      <td>139</td>\n",
       "      <td>82</td>\n",
       "      <td>1537</td>\n",
       "      <td>1905</td>\n",
       "      <td>2250</td>\n",
       "      <td>2161</td>\n",
       "      <td>1923</td>\n",
       "      <td>1859</td>\n",
       "    </tr>\n",
       "    <tr>\n",
       "      <th>4</th>\n",
       "      <td>2014F</td>\n",
       "      <td>AK</td>\n",
       "      <td>AVACP</td>\n",
       "      <td>1032.0</td>\n",
       "      <td>1276.0</td>\n",
       "      <td>1030.0</td>\n",
       "      <td>648.0</td>\n",
       "      <td>459.0</td>\n",
       "      <td>293.0</td>\n",
       "      <td>215.0</td>\n",
       "      <td>...</td>\n",
       "      <td>277</td>\n",
       "      <td>250</td>\n",
       "      <td>248</td>\n",
       "      <td>200</td>\n",
       "      <td>217</td>\n",
       "      <td>169</td>\n",
       "      <td>159</td>\n",
       "      <td>154</td>\n",
       "      <td>139</td>\n",
       "      <td>131</td>\n",
       "    </tr>\n",
       "  </tbody>\n",
       "</table>\n",
       "<p>5 rows × 58 columns</p>\n",
       "</div>"
      ],
      "text/plain": [
       "  Data_Status State    MSN    1960    1961    1962   1963   1964   1965  \\\n",
       "0       2014F    AK  ABICP     0.0     0.0     0.0    0.0    0.0    0.0   \n",
       "1       2014F    AK  ARICP    47.0    84.0    74.0   89.0  119.0  132.0   \n",
       "2       2014F    AK  ARTCP    47.0    84.0    74.0   89.0  119.0  132.0   \n",
       "3       2014F    AK  ARTXP    47.0    84.0    74.0   89.0  119.0  132.0   \n",
       "4       2014F    AK  AVACP  1032.0  1276.0  1030.0  648.0  459.0  293.0   \n",
       "\n",
       "    1966  ...   2005  2006  2007  2008  2009  2010  2011  2012  2013  2014  \n",
       "0    0.0  ...     38     3     8     0    -3    -1     0     0    -1     0  \n",
       "1  248.0  ...    186    50   139    82  1537  1905  2250  2161  1923  1859  \n",
       "2  248.0  ...    186    50   139    82  1537  1905  2250  2161  1923  1859  \n",
       "3  248.0  ...    186    50   139    82  1537  1905  2250  2161  1923  1859  \n",
       "4  215.0  ...    277   250   248   200   217   169   159   154   139   131  \n",
       "\n",
       "[5 rows x 58 columns]"
      ]
     },
     "execution_count": 1,
     "metadata": {},
     "output_type": "execute_result"
    }
   ],
   "source": [
    "import pandas as pd\n",
    "import numpy as np\n",
    "df = pd.read_excel(\"Data/use_all.xlsx\")\n",
    "df.head()"
   ]
  },
  {
   "cell_type": "code",
   "execution_count": 7,
   "metadata": {
    "collapsed": false
   },
   "outputs": [],
   "source": [
    "#df.loc[0].T"
   ]
  },
  {
   "cell_type": "code",
   "execution_count": 13,
   "metadata": {
    "collapsed": false,
    "scrolled": true
   },
   "outputs": [],
   "source": [
    "#df[df.MSN==\"HYTCP\"]"
   ]
  },
  {
   "cell_type": "code",
   "execution_count": 2,
   "metadata": {
    "collapsed": false,
    "scrolled": true
   },
   "outputs": [
    {
     "data": {
      "text/html": [
       "<div>\n",
       "<table border=\"1\" class=\"dataframe\">\n",
       "  <thead>\n",
       "    <tr style=\"text-align: right;\">\n",
       "      <th></th>\n",
       "      <th>Data_Status</th>\n",
       "      <th>State</th>\n",
       "      <th>MSN</th>\n",
       "      <th>1960</th>\n",
       "      <th>1961</th>\n",
       "      <th>1962</th>\n",
       "      <th>1963</th>\n",
       "      <th>1964</th>\n",
       "      <th>1965</th>\n",
       "      <th>1966</th>\n",
       "      <th>...</th>\n",
       "      <th>2005</th>\n",
       "      <th>2006</th>\n",
       "      <th>2007</th>\n",
       "      <th>2008</th>\n",
       "      <th>2009</th>\n",
       "      <th>2010</th>\n",
       "      <th>2011</th>\n",
       "      <th>2012</th>\n",
       "      <th>2013</th>\n",
       "      <th>2014</th>\n",
       "    </tr>\n",
       "  </thead>\n",
       "  <tbody>\n",
       "    <tr>\n",
       "      <th>46</th>\n",
       "      <td>2014F</td>\n",
       "      <td>AK</td>\n",
       "      <td>HYTCP</td>\n",
       "      <td>290.0</td>\n",
       "      <td>297.0</td>\n",
       "      <td>304.0</td>\n",
       "      <td>325.0</td>\n",
       "      <td>322.0</td>\n",
       "      <td>350.0</td>\n",
       "      <td>316.0</td>\n",
       "      <td>...</td>\n",
       "      <td>1464</td>\n",
       "      <td>1224</td>\n",
       "      <td>1291</td>\n",
       "      <td>1172</td>\n",
       "      <td>1324</td>\n",
       "      <td>1433</td>\n",
       "      <td>1345</td>\n",
       "      <td>1575</td>\n",
       "      <td>1435</td>\n",
       "      <td>1539</td>\n",
       "    </tr>\n",
       "  </tbody>\n",
       "</table>\n",
       "<p>1 rows × 58 columns</p>\n",
       "</div>"
      ],
      "text/plain": [
       "   Data_Status State    MSN   1960   1961   1962   1963   1964   1965   1966  \\\n",
       "46       2014F    AK  HYTCP  290.0  297.0  304.0  325.0  322.0  350.0  316.0   \n",
       "\n",
       "    ...   2005  2006  2007  2008  2009  2010  2011  2012  2013  2014  \n",
       "46  ...   1464  1224  1291  1172  1324  1433  1345  1575  1435  1539  \n",
       "\n",
       "[1 rows x 58 columns]"
      ]
     },
     "execution_count": 2,
     "metadata": {},
     "output_type": "execute_result"
    }
   ],
   "source": [
    "df[(df.MSN==\"HYTCP\")&(df.State==\"AK\")]"
   ]
  },
  {
   "cell_type": "code",
   "execution_count": 3,
   "metadata": {
    "collapsed": false
   },
   "outputs": [],
   "source": [
    "alist=[\"HYTCP\",\"WYTCP\",\"SOEGP\",\"NUETP\"]\n",
    "dftemp=df[df['MSN'].isin(alist)&(df.State==\"AK\")]\n",
    "del dftemp['Data_Status']\n",
    "#del dftemp['State']\n",
    "del dftemp['MSN']\n",
    "dftemp=dftemp.T\n",
    "#print(dftemp)"
   ]
  },
  {
   "cell_type": "code",
   "execution_count": 35,
   "metadata": {
    "collapsed": false
   },
   "outputs": [],
   "source": [
    "#df.drop(0)\n",
    "#statelist[0]=pd.DataFrame(index=range(0,4),columns=[\"HYTCP\",\"WYTCP\",\"SOEGP\",\"NUETP\"])\n",
    "#print(statelist[0])\n",
    "#datlist=[range(0,51)]\n",
    "#datlist[0]==1\n",
    "#datlist"
   ]
  },
  {
   "cell_type": "code",
   "execution_count": 4,
   "metadata": {
    "collapsed": false
   },
   "outputs": [
    {
     "data": {
      "text/plain": [
       "'WY'"
      ]
     },
     "execution_count": 4,
     "metadata": {},
     "output_type": "execute_result"
    }
   ],
   "source": [
    "statelist=[\"AK\",\"AL\",\"AR\",\"AZ\",\"CA\",\"CO\",\"CT\",\"DC\",\"DE\",\"FL\",\"GA\",\"HI\",\"IA\",\"ID\",\"IL\",\"IN\",\"KS\",\"KY\",\"LA\",\"MA\",\"MD\",\"ME\",\"MI\",\"MN\",\"MO\",\"MS\",\"MT\",\"NC\",\"ND\",\"NE\",\"NH\",\"NJ\",\"NM\",\"NV\",\"NY\",\"OH\",\"OK\",\"OR\",\"PA\",\"RI\",\"SC\",\"SD\",\"TN\",\"TX\",\"US\",\"UT\",\"VA\",\"VT\",\"WA\",\"WI\",\"WV\",\"WY\"]\n",
    "len(statelist)\n",
    "statelist[51]"
   ]
  },
  {
   "cell_type": "code",
   "execution_count": 5,
   "metadata": {
    "collapsed": false
   },
   "outputs": [
    {
     "name": "stdout",
     "output_type": "stream",
     "text": [
      "         46   89   117    126\n",
      "1960   290.0  0.0  0.0    0.0\n",
      "1961   297.0  0.0  0.0    0.0\n",
      "1962   304.0  0.0  0.0    0.0\n",
      "1963   325.0  0.0  0.0    0.0\n",
      "1964   322.0  0.0  0.0    0.0\n",
      "1965   350.0  0.0  0.0    0.0\n",
      "1966   316.0  0.0  0.0    0.0\n",
      "1967   363.0  0.0  0.0    0.0\n",
      "1968   364.0  0.0  0.0    0.0\n",
      "1969   341.0  0.0  0.0    0.0\n",
      "1970   363.0  0.0  0.0    0.0\n",
      "1971   363.0  0.0  0.0    0.0\n",
      "1972   346.0  0.0  0.0    0.0\n",
      "1973   286.0  0.0  0.0    0.0\n",
      "1974   326.0  0.0  0.0    0.0\n",
      "1975   357.0  0.0  0.0    0.0\n",
      "1976   383.0  0.0  0.0    0.0\n",
      "1977   512.0  0.0  0.0    0.0\n",
      "1978   472.0  0.0  0.0    0.0\n",
      "1979   459.0  0.0  0.0    0.0\n",
      "1980   539.0  0.0  0.0    0.0\n",
      "1981   590.0  0.0  0.0    0.0\n",
      "1982   561.0  0.0  0.0    0.0\n",
      "1983   593.0  0.0  0.0    0.0\n",
      "1984   693.0  0.0  0.0    0.0\n",
      "1985   748.0  0.0  0.0    0.0\n",
      "1986   809.0  0.0  0.0    0.0\n",
      "1987   872.0  0.0  0.0    0.0\n",
      "1988   935.0  0.0  0.0    0.0\n",
      "1989   873.0  0.0  0.0    0.0\n",
      "1990   975.0  0.0  0.0    0.0\n",
      "1991   896.0  0.0  0.0    0.0\n",
      "1992   918.0  0.0  0.0    0.0\n",
      "1993  1303.0  0.0  0.0    0.0\n",
      "1994  1345.0  0.0  0.0    0.0\n",
      "1995  1372.0  0.0  0.0    0.0\n",
      "1996  1266.0  0.0  0.0    0.0\n",
      "1997  1099.0  0.0  0.0    0.0\n",
      "1998  1113.0  0.0  0.0    0.0\n",
      "1999   817.0  0.0  0.0    0.0\n",
      "2000  1002.0  0.0  0.0    0.0\n",
      "2001  1346.0  0.0  0.0    1.0\n",
      "2002  1439.0  0.0  0.0    0.0\n",
      "2003  1583.0  0.0  0.0    0.0\n",
      "2004  1498.0  0.0  0.0    0.0\n",
      "2005  1464.0  0.0  0.0    1.0\n",
      "2006  1224.0  0.0  0.0    1.0\n",
      "2007  1291.0  0.0  0.0    1.0\n",
      "2008  1172.0  0.0  0.0    0.0\n",
      "2009  1324.0  0.0  0.0    7.0\n",
      "2010  1433.0  0.0  0.0   13.0\n",
      "2011  1345.0  0.0  0.0   12.0\n",
      "2012  1575.0  0.0  0.0   37.0\n",
      "2013  1435.0  0.0  0.0  145.0\n",
      "2014  1539.0  0.0  0.0  152.0\n"
     ]
    }
   ],
   "source": [
    "alist=[\"HYTCP\",\"WYTCP\",\"SOEGP\",\"NUETP\"]\n",
    "dftemp1=df[df['MSN'].isin(alist)&(df.State==statelist[0])]\n",
    "del dftemp1['Data_Status']\n",
    "del dftemp1['State']\n",
    "del dftemp1['MSN']\n",
    "dftemp1=dftemp1.T\n",
    "print(dftemp1)"
   ]
  },
  {
   "cell_type": "code",
   "execution_count": 6,
   "metadata": {
    "collapsed": false
   },
   "outputs": [],
   "source": [
    "import numpy as np\n",
    "datalist=[]\n",
    "for i in range(0,52):\n",
    "    alist=[\"Year\",\"HYTCP\",\"WYTCP\",\"SOEGP\",\"NUETP\"]\n",
    "    dftemp=df[df['MSN'].isin(alist)&(df.State==statelist[i])]\n",
    "    del dftemp['Data_Status']\n",
    "    del dftemp['State']\n",
    "    del dftemp['MSN']\n",
    "    dftemp=dftemp.T\n",
    "    #print(dftemp)\n",
    "    dftemp.columns=['HYTCP','WYTCP', 'SOEGP', 'NUETP']\n",
    "    #print(dftemp)\n",
    "    datalist.append(dftemp)\n",
    "    #datalist.append(pd.DataFrame(dftemp,index=range(1960,2015),columns=[\"HYTCP\",\"WYTCP\",\"SOEGP\",\"NUETP\"]))\n",
    "    datalist[i].to_csv('%s.csv'% (statelist[i]), encoding='utf-8', index=True)\n",
    "#print(datalist)"
   ]
  },
  {
   "cell_type": "code",
   "execution_count": 38,
   "metadata": {
    "collapsed": false
   },
   "outputs": [],
   "source": [
    "#dataframe可以使用to_csv方法方便地导出到csv文件中，如果数据中含有中文，一般encoding指定为”utf-8″,否则导出时程序会因为不能识别相应的字符串而抛出异常，index指定为False表示不用导出dataframe的index数据。\n",
    "#datalist[0].to_csv('%s.csv'% (statelist[0]), encoding='utf-8', index=True)"
   ]
  },
  {
   "cell_type": "code",
   "execution_count": null,
   "metadata": {
    "collapsed": true
   },
   "outputs": [],
   "source": []
  }
 ],
 "metadata": {
  "anaconda-cloud": {},
  "kernelspec": {
   "display_name": "Python [default]",
   "language": "python",
   "name": "python3"
  },
  "language_info": {
   "codemirror_mode": {
    "name": "ipython",
    "version": 3
   },
   "file_extension": ".py",
   "mimetype": "text/x-python",
   "name": "python",
   "nbconvert_exporter": "python",
   "pygments_lexer": "ipython3",
   "version": "3.5.2"
  }
 },
 "nbformat": 4,
 "nbformat_minor": 2
}
